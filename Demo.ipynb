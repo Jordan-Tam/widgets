{
  "cells": [
    {
      "cell_type": "code",
      "execution_count": 1,
      "metadata": {
        "id": "6rc52KWvrM34"
      },
      "outputs": [],
      "source": [
        "%%capture\n",
        "!pip install \"anywidget[dev]\"\n",
        "!pip install ipywidgets\n",
        "!pip install traitlets\n",
        "import anywidget\n",
        "import ipywidgets\n",
        "import traitlets"
      ]
    },
    {
      "cell_type": "code",
      "execution_count": 2,
      "metadata": {
        "colab": {
          "base_uri": "https://localhost:8080/",
          "height": 194,
          "referenced_widgets": [
            "31aa6db00bdf4e45b4900a1ee4089fbb",
            "7c8b37e9b65542f0990ba1f7273f0596"
          ]
        },
        "id": "KWur9ClTrTXM",
        "outputId": "32d8ff0a-b090-4caf-a992-49c3e0eb268d"
      },
      "outputs": [
        {
          "data": {
            "application/vnd.jupyter.widget-view+json": {
              "model_id": "31aa6db00bdf4e45b4900a1ee4089fbb",
              "version_major": 2,
              "version_minor": 0
            },
            "text/plain": [
              "TicTacToeWidget()"
            ]
          },
          "metadata": {
            "application/vnd.jupyter.widget-view+json": {
              "colab": {
                "custom_widget_manager": {
                  "url": "https://ssl.gstatic.com/colaboratory-static/widgets/colab-cdn-widget-manager/2b70e893a8ba7c0f/manager.min.js"
                }
              }
            }
          },
          "output_type": "display_data"
        }
      ],
      "source": [
        "class TicTacToeWidget(anywidget.AnyWidget):\n",
        "  _esm = \"tic_tac_toe.js\"\n",
        "  _css = \"tic_tac_toe.css\"\n",
        "\n",
        "TicTacToeWidget()"
      ]
    },
    {
      "cell_type": "code",
      "execution_count": null,
      "metadata": {},
      "outputs": [],
      "source": [
        "class CustomTicTacToeWidget(anywidget.AnyWidget):\n",
        "  _esm = \"custom_tic_tac_toe.js\"\n",
        "  _css = \"custom_tic_tac_toe.css\"\n",
        "  num_players = traitlets.Int(2).tag(sync=True)\n",
        "  board_height = traitlets.Int(3).tag(sync=True)\n",
        "  board_width = traitlets.Int(3).tag(sync=True)\n",
        "  in_a_row = traitlets.Int(3).tag(sync=True)\n",
        "\n",
        "widget = CustomTicTacToeWidget()\n",
        "\n",
        "num_players_SLIDER = ipywidgets.IntSlider(\n",
        "    value=2,\n",
        "    min=1,\n",
        "    max=4,\n",
        "    step=1,\n",
        "    description=\"Number of players: \",\n",
        "    style={\"description_width\": \"initial\"}\n",
        ")\n",
        "board_height_SLIDER = ipywidgets.IntSlider(\n",
        "    value=3,\n",
        "    min=1,\n",
        "    max=5,\n",
        "    step=1,\n",
        "    description=\"Board height: \",\n",
        "    style={\"description_width\": \"initial\"}\n",
        ")\n",
        "board_width_SLIDER = ipywidgets.IntSlider(\n",
        "    value=3,\n",
        "    min=1,\n",
        "    max=5,\n",
        "    step=1,\n",
        "    description=\"Board width: \",\n",
        "    style={\"description_width\": \"initial\"}\n",
        ")\n",
        "in_a_row_SLIDER = ipywidgets.IntSlider(\n",
        "    value=3,\n",
        "    min=1,\n",
        "    max=5,\n",
        "    step=1,\n",
        "    description=\"Win condition: \",\n",
        "    style={\"description_width\": \"initial\"}\n",
        ")\n",
        "\n",
        "ipywidgets.link((widget, \"num_players\"), (num_players_SLIDER, \"value\"))\n",
        "ipywidgets.link((widget, \"board_height\"), (board_height_SLIDER, \"value\"))\n",
        "ipywidgets.link((widget, \"board_width\"), (board_width_SLIDER, \"value\"))\n",
        "ipywidgets.link((widget, \"in_a_row\"), (in_a_row_SLIDER, \"value\"))\n",
        "\n",
        "ipywidgets.VBox([\n",
        "    widget,\n",
        "    num_players_SLIDER,\n",
        "    board_height_SLIDER,\n",
        "    board_width_SLIDER,\n",
        "    in_a_row_SLIDER\n",
        "])"
      ]
    }
  ],
  "metadata": {
    "colab": {
      "provenance": []
    },
    "kernelspec": {
      "display_name": "Python 3",
      "name": "python3"
    },
    "language_info": {
      "name": "python"
    },
    "widgets": {
      "application/vnd.jupyter.widget-state+json": {
        "31aa6db00bdf4e45b4900a1ee4089fbb": {
          "model_module": "anywidget",
          "model_module_version": "~0.9.*",
          "model_name": "AnyModel",
          "state": {
            "_anywidget_id": "__main__.TicTacToeWidget",
            "_css": "* {\n  margin: 0px;\n  padding: 0px;\n  box-sizing: border-box;\n}\n\n.game-board {\n    display: inline-grid;\n    gap: 1px;\n    grid-template-columns: repeat(3, 1fr);\n}\n\n.square {\n    height: 50px;\n    width: 50px;\n    font-size: 20px;\n}",
            "_dom_classes": [],
            "_esm": "function render({ model, el }) {\n\n    let gameBoard = document.createElement(\"div\");\n    gameBoard.classList.add(\"game-board\");\n    el.appendChild(gameBoard);\n    \n    let debug = document.createElement(\"p\");\n    el.appendChild(debug);\n\n    const win = [\n        [0, 1, 2],\n        [3, 4, 5],\n        [6, 7, 8],\n        [0, 3, 6],\n        [1, 4, 7],\n        [2, 5, 8],\n        [0, 4, 8],\n        [2, 4, 6]\n    ];\n    let squares = [];\n    let turn = 0;\n    let p1_symbol = \"X\";\n    let p2_symbol = \"O\";\n\n    let move = (event) => {\n        if (event.target.innerHTML) {\n            return;\n        }\n        event.target.innerHTML = turn ? p2_symbol : p1_symbol;\n        turn = !turn;\n        for (let i = 0; i < win.length; i++) {\n            if (squares[win[i][0]].innerHTML &&\n                squares[win[i][1]].innerHTML &&\n                squares[win[i][2]].innerHTML &&\n                squares[win[i][0]].innerHTML === squares[win[i][1]].innerHTML &&\n                squares[win[i][0]].innerHTML === squares[win[i][2]].innerHTML\n            ) {\n                squares[win[i][0]].style.color = \"red\";\n                squares[win[i][1]].style.color = \"red\";\n                squares[win[i][2]].style.color = \"red\";\n                for (let i = 0; i < squares.length; i++) {\n                    squares[i].disabled = true;\n                }\n                break;\n            }\n        }\n        if (squares.filter((s) => s.innerHTML).length === 9) {\n            for (let i = 0; i < squares.length; i++) {\n                squares[i].disabled = true;\n            }\n        }\n    };\n\n    for (let i = 0; i < 9; i++) {\n        let button = document.createElement(\"button\");\n        button.classList.add(\"square\");\n        button.addEventListener(\"click\", move);\n        squares.push(button);\n        gameBoard.appendChild(button);\n    }\n\n    let reset = () => {\n        for (let i = 0; i < squares.length; i++) {\n            squares[i].disabled = false;\n            squares[i].innerHTML = \"\";\n            squares[i].style.color = \"black\";\n            turn = 0;\n        }\n    };\n\n    let resetButton = document.createElement(\"button\");\n    resetButton.innerHTML = \"Reset\";\n    resetButton.addEventListener(\"click\", reset);\n    el.appendChild(resetButton);\n\n}\n\nexport default { render };",
            "_model_module": "anywidget",
            "_model_module_version": "~0.9.*",
            "_model_name": "AnyModel",
            "_view_count": null,
            "_view_module": "anywidget",
            "_view_module_version": "~0.9.*",
            "_view_name": "AnyView",
            "layout": "IPY_MODEL_7c8b37e9b65542f0990ba1f7273f0596"
          }
        },
        "7c8b37e9b65542f0990ba1f7273f0596": {
          "model_module": "@jupyter-widgets/base",
          "model_module_version": "1.2.0",
          "model_name": "LayoutModel",
          "state": {
            "_model_module": "@jupyter-widgets/base",
            "_model_module_version": "1.2.0",
            "_model_name": "LayoutModel",
            "_view_count": null,
            "_view_module": "@jupyter-widgets/base",
            "_view_module_version": "1.2.0",
            "_view_name": "LayoutView",
            "align_content": null,
            "align_items": null,
            "align_self": null,
            "border": null,
            "bottom": null,
            "display": null,
            "flex": null,
            "flex_flow": null,
            "grid_area": null,
            "grid_auto_columns": null,
            "grid_auto_flow": null,
            "grid_auto_rows": null,
            "grid_column": null,
            "grid_gap": null,
            "grid_row": null,
            "grid_template_areas": null,
            "grid_template_columns": null,
            "grid_template_rows": null,
            "height": null,
            "justify_content": null,
            "justify_items": null,
            "left": null,
            "margin": null,
            "max_height": null,
            "max_width": null,
            "min_height": null,
            "min_width": null,
            "object_fit": null,
            "object_position": null,
            "order": null,
            "overflow": null,
            "overflow_x": null,
            "overflow_y": null,
            "padding": null,
            "right": null,
            "top": null,
            "visibility": null,
            "width": null
          }
        }
      }
    }
  },
  "nbformat": 4,
  "nbformat_minor": 0
}
